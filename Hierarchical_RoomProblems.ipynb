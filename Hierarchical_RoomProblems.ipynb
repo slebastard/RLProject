{
 "cells": [
  {
   "cell_type": "code",
   "execution_count": null,
   "metadata": {},
   "outputs": [],
   "source": [
    "import numpy as np\n",
    "import matplotlib.pyplot as plt\n",
    "import gridrender as gui\n",
    "import math\n",
    "import os\n",
    "import time\n",
    "import pdb\n",
    "import numbers\n",
    "\n",
    "from gridworld import GridWorld, two_rooms_grid, two_rooms_computeOptions\n",
    "from RL_methods import PolicyLearning, ValueLearning\n",
    "from HRL_methods import Option, MAXQ\n",
    "from anytree import Node, PreOrderIter\n",
    "from anytree.search import findall_by_attr\n",
    "from anytree.render import RenderTree\n",
    "\n",
    "%matplotlib inline\n",
    "%pylab inline\n",
    "pylab.rcParams['figure.figsize'] = (10, 6)"
   ]
  },
  {
   "cell_type": "code",
   "execution_count": null,
   "metadata": {
    "collapsed": true
   },
   "outputs": [],
   "source": [
    "twoRooms_grid = two_rooms_grid(room_width=10, room_height=7, doorway_pos=3, doorway_height=1, goal_height=0)\n",
    "twoRooms = GridWorld(gamma=0.95, grid=twoRooms_grid)"
   ]
  },
  {
   "cell_type": "markdown",
   "metadata": {},
   "source": [
    "## Value estimation in RL\n",
    "\n",
    "Let's define a first policy that we will test the problem with:"
   ]
  },
  {
   "cell_type": "code",
   "execution_count": null,
   "metadata": {
    "collapsed": true
   },
   "outputs": [],
   "source": [
    "def policy1(state,GridWorld):\n",
    "    if 0 in GridWorld.state_actions[state]:\n",
    "        action = 0\n",
    "    elif 3 in GridWorld.state_actions[state]:\n",
    "        action = 3\n",
    "    elif 1 in GridWorld.state_actions[state]:\n",
    "        action = 1\n",
    "    else:\n",
    "        action = 2\n",
    "    return action    "
   ]
  },
  {
   "cell_type": "code",
   "execution_count": null,
   "metadata": {},
   "outputs": [],
   "source": [
    "Q4_ValEst = ValueLearning(1,twoRooms,policy1)\n",
    "Q4_ValEst.run()\n",
    "Q4_ValEst.render()"
   ]
  },
  {
   "cell_type": "markdown",
   "metadata": {},
   "source": [
    "## Policy learning in RL"
   ]
  },
  {
   "cell_type": "code",
   "execution_count": null,
   "metadata": {
    "collapsed": true
   },
   "outputs": [],
   "source": [
    "P = PolicyLearning(ind=0, GridWorld=twoRooms)\n",
    "P.run()\n",
    "P.stats()\n",
    "P.render()\n",
    "\n",
    "gui.render_policy(P.GridWorld, P.policy)"
   ]
  },
  {
   "cell_type": "markdown",
   "metadata": {},
   "source": [
    "## Hierarchical RL\n",
    "### MAXQ Algorithm\n",
    "\n",
    "We will build an option $O_{downward}$ with the following characteristics:\n",
    "- non-zero probability of being triggered everywhere in the left room, above the doorway\n",
    "- null probability of being triggered everywhere in the right room\n",
    "- when triggered, moves downward until it reaches the level of doorway, then moves right towards it\n",
    "- stops when reaching the grid element just in front of the door from the left room to the right room\n",
    "\n",
    "Similarly, we will build the $O_{upward}$ that is exactly symmetrical of $O_{downward}$, allowing to reach the doorway from every element in the lower part of the left room."
   ]
  },
  {
   "cell_type": "code",
   "execution_count": null,
   "metadata": {},
   "outputs": [],
   "source": [
    "[downward_initSet,upward_initSet, quitMap, downward_policy_matrix, upward_policy_matrix] = two_rooms_computeOptions(room_width=10, room_height=7, doorway_pos=3, doorway_height=1)\n",
    "\n",
    "def downward_policy(coords):\n",
    "    return downward_policy_matrix[coords[0],coords[1]]\n",
    "def upward_policy(coords):\n",
    "    return upward_policy_matrix[coords[0],coords[1]]\n",
    "\n",
    "downward_option = Option(downward_initSet, downward_policy, quitMap, name='Downward to doorway')\n",
    "upward_option = Option(upward_initSet, upward_policy, quitMap, name='Upward to doorway')\n",
    "\n",
    "# print(downward_policy_matrix)\n",
    "# print(upward_policy_matrix)\n",
    "# print(downward_initSet)\n",
    "# print(upward_initSet)\n",
    "# print(quitMap)"
   ]
  },
  {
   "cell_type": "code",
   "execution_count": null,
   "metadata": {},
   "outputs": [],
   "source": [
    "MaxQ_2Rooms = MAXQ(twoRooms, alpha0=0.25, expl0=0.9, n_iter=1000, optionSet=[downward_option, upward_option], debug=True)"
   ]
  },
  {
   "cell_type": "code",
   "execution_count": null,
   "metadata": {
    "collapsed": true
   },
   "outputs": [],
   "source": []
  }
 ],
 "metadata": {
  "kernelspec": {
   "display_name": "Python 3",
   "language": "python",
   "name": "python3"
  },
  "language_info": {
   "codemirror_mode": {
    "name": "ipython",
    "version": 3
   },
   "file_extension": ".py",
   "mimetype": "text/x-python",
   "name": "python",
   "nbconvert_exporter": "python",
   "pygments_lexer": "ipython3",
   "version": "3.6.2"
  }
 },
 "nbformat": 4,
 "nbformat_minor": 2
}
