{
 "cells": [
  {
   "cell_type": "code",
   "execution_count": 1,
   "metadata": {},
   "outputs": [
    {
     "name": "stdout",
     "output_type": "stream",
     "text": [
      "Populating the interactive namespace from numpy and matplotlib\n"
     ]
    }
   ],
   "source": [
    "import numpy as np\n",
    "import matplotlib.pyplot as plt\n",
    "import gridrender as gui\n",
    "import math\n",
    "import os\n",
    "import time\n",
    "import pdb\n",
    "import numbers\n",
    "\n",
    "from gridworld import GridWorld, two_rooms_grid, two_rooms_computeOptions, four_rooms_grid\n",
    "from RL_methods import PolicyLearning, ValueLearning\n",
    "from HRL_methods import Option, MAXQ\n",
    "from anytree import Node, PreOrderIter\n",
    "from anytree.search import findall_by_attr\n",
    "from anytree.render import RenderTree\n",
    "\n",
    "%matplotlib inline\n",
    "%pylab inline\n",
    "pylab.rcParams['figure.figsize'] = (10, 6)"
   ]
  },
  {
   "cell_type": "code",
   "execution_count": 2,
   "metadata": {},
   "outputs": [],
   "source": [
    "twoRooms_grid = two_rooms_grid(room_width=10, room_height=7, doorway_pos=3, doorway_height=1, goal_height=0)\n",
    "\n",
    "# Declaring reset density\n",
    "reset_density = np.zeros((len(twoRooms_grid),len(twoRooms_grid[0])))\n",
    "for i in range(reset_density.shape[0]):\n",
    "    for j in range(reset_density.shape[1]):\n",
    "        if twoRooms_grid[i][j] != 'x' and 'x' in twoRooms_grid[i][j:]:\n",
    "            reset_density[i][j] = 1\n",
    "reset_density /= reset_density.sum()\n",
    "\n",
    "def static_filter(s,dist_to_goal=4):\n",
    "    objective = np.array([0,len(twoRooms_grid[0])-1])\n",
    "    coord_s = np.array(twoRooms.state2coord[s])\n",
    "    return np.linalg.norm(objective-coord_s) >= dist_to_goal\n",
    "\n",
    "twoRooms = GridWorld(gamma=0.95, static_filter=static_filter, grid=twoRooms_grid, reset_density=reset_density)\n",
    "\n",
    "fourRooms_grid = four_rooms_grid(room_width=10, room_height=7, doorway_pos_v=5, doorway_pos_h=3, doorway_height=1, goal_width=20, goal_height=12)\n",
    "fourRooms = GridWorld(gamma=0.95, static_filter=static_filter, grid=fourRooms_grid)"
   ]
  },
  {
   "cell_type": "markdown",
   "metadata": {},
   "source": [
    "## Value estimation in RL\n",
    "\n",
    "Let's define a first policy that we will test the problem with:"
   ]
  },
  {
   "cell_type": "code",
   "execution_count": 3,
   "metadata": {
    "collapsed": true
   },
   "outputs": [],
   "source": [
    "def policy1(state,GridWorld):\n",
    "    if 0 in GridWorld.state_actions[state]:\n",
    "        action = 0\n",
    "    elif 3 in GridWorld.state_actions[state]:\n",
    "        action = 3\n",
    "    elif 1 in GridWorld.state_actions[state]:\n",
    "        action = 1\n",
    "    else:\n",
    "        action = 2\n",
    "    return action    "
   ]
  },
  {
   "cell_type": "code",
   "execution_count": 4,
   "metadata": {
    "collapsed": true
   },
   "outputs": [],
   "source": [
    "Q4_ValEst = ValueLearning(1,twoRooms,policy1)\n",
    "Q4_ValEst.run()\n",
    "Q4_ValEst.render()"
   ]
  },
  {
   "cell_type": "markdown",
   "metadata": {},
   "source": [
    "## Policy learning in RL"
   ]
  },
  {
   "cell_type": "code",
   "execution_count": 6,
   "metadata": {},
   "outputs": [
    {
     "name": "stdout",
     "output_type": "stream",
     "text": [
      "Stats from last run\n",
      "Mean reward cumulated over single episode: 500.50\n"
     ]
    },
    {
     "data": {
      "image/png": "[encoded data removed]",
      "text/plain": [
       "<matplotlib.figure.Figure at 0x7f9c68e68e48>"
      ]
     },
     "metadata": {},
     "output_type": "display_data"
    }
   ],
   "source": [
    "P = PolicyLearning(ind=0, GridWorld=twoRooms, max_iter = 1000)\n",
    "P.run()\n",
    "P.stats()\n",
    "P.render()\n",
    "\n",
    "gui.render_policy(P.GridWorld, P.policy)"
   ]
  },
  {
   "cell_type": "markdown",
   "metadata": {},
   "source": [
    "## Hierarchical RL\n",
    "### MAXQ Algorithm\n",
    "\n",
    "We will build an option $O_{downward}$ with the following characteristics:\n",
    "- non-zero probability of being triggered everywhere in the left room, above the doorway\n",
    "- null probability of being triggered everywhere in the right room\n",
    "- when triggered, moves downward until it reaches the level of doorway, then moves right towards it\n",
    "- stops when reaching the grid element just in front of the door from the left room to the right room\n",
    "\n",
    "Similarly, we will build the $O_{upward}$ that is exactly symmetrical of $O_{downward}$, allowing to reach the doorway from every element in the lower part of the left room."
   ]
  },
  {
   "cell_type": "code",
   "execution_count": 3,
   "metadata": {},
   "outputs": [],
   "source": [
    "[downward_initSet,upward_initSet, quitMap, downward_policy_matrix, upward_policy_matrix] = two_rooms_computeOptions(room_width=10, room_height=7, doorway_pos=3, doorway_height=1)\n",
    "\n",
    "def downward_policy(coords):\n",
    "    return downward_policy_matrix[coords[0],coords[1]]\n",
    "def upward_policy(coords):\n",
    "    return upward_policy_matrix[coords[0],coords[1]]\n",
    "\n",
    "downward_option = Option(downward_initSet, downward_policy, quitMap, conceptState=70, name='Downward to doorway')\n",
    "upward_option = Option(upward_initSet, upward_policy, quitMap, conceptState=70, name='Upward to doorway')\n",
    "\n",
    "# print(downward_policy_matrix)\n",
    "# print(upward_policy_matrix)\n",
    "# print(downward_initSet)\n",
    "# print(upward_initSet)\n",
    "# print(quitMap)"
   ]
  },
  {
   "cell_type": "code",
   "execution_count": 5,
   "metadata": {},
   "outputs": [
    {
     "name": "stderr",
     "output_type": "stream",
     "text": [
      "\n",
      "Training MAXQ on 1000 runs:   0%|          | 0/1000 [00:00<?, ?it/s]\u001b[A"
     ]
    },
    {
     "name": "stdout",
     "output_type": "stream",
     "text": [
      "Root\n",
      "├── right\n",
      "├── down\n",
      "├── left\n",
      "├── up\n",
      "├── Downward to doorway\n",
      "│   ├── right\n",
      "│   ├── down\n",
      "│   ├── left\n",
      "│   └── up\n",
      "└── Upward to doorway\n",
      "    ├── right\n",
      "    ├── down\n",
      "    ├── left\n",
      "    └── up\n"
     ]
    },
    {
     "name": "stderr",
     "output_type": "stream",
     "text": [
      "\n",
      "Training MAXQ on 1000 runs:   0%|          | 1/1000 [00:00<04:07,  4.04it/s]\u001b[A\n",
      "Training MAXQ on 1000 runs:   0%|          | 3/1000 [00:00<02:19,  7.14it/s]\u001b[A\n",
      "Training MAXQ on 1000 runs:   0%|          | 4/1000 [00:00<03:06,  5.34it/s]\u001b[A\n",
      "Training MAXQ on 1000 runs:   0%|          | 5/1000 [00:00<02:50,  5.82it/s]\u001b[A\n",
      "Training MAXQ on 1000 runs:   1%|          | 6/1000 [00:01<04:40,  3.54it/s]\u001b[A\n",
      "Training MAXQ on 1000 runs:   1%|          | 7/1000 [00:01<04:23,  3.76it/s]\u001b[A\n",
      "Training MAXQ on 1000 runs:   1%|          | 8/1000 [00:02<04:20,  3.80it/s]\u001b[A\n",
      "Training MAXQ on 1000 runs:   1%|          | 9/1000 [00:02<04:31,  3.64it/s]\u001b[A\n",
      "Training MAXQ on 1000 runs:   1%|          | 10/1000 [00:02<04:17,  3.85it/s]\u001b[A\n",
      "Training MAXQ on 1000 runs:   1%|          | 11/1000 [00:03<04:49,  3.42it/s]\u001b[A\n",
      "Training MAXQ on 1000 runs:   1%|          | 12/1000 [00:03<04:33,  3.61it/s]\u001b[A\n",
      "Training MAXQ on 1000 runs:   2%|▏         | 15/1000 [00:03<03:57,  4.16it/s]\u001b[A\n",
      "Training MAXQ on 1000 runs:   2%|▏         | 16/1000 [00:03<03:49,  4.28it/s]\u001b[A\n",
      "Training MAXQ on 1000 runs:   2%|▏         | 17/1000 [00:03<03:42,  4.43it/s]\u001b[A\n",
      "Training MAXQ on 1000 runs:   2%|▏         | 18/1000 [00:03<03:36,  4.53it/s]\u001b[A\n",
      "Training MAXQ on 1000 runs:   2%|▏         | 19/1000 [00:04<03:31,  4.63it/s]\u001b[A\n",
      "Training MAXQ on 1000 runs:   2%|▏         | 21/1000 [00:04<03:17,  4.96it/s]\u001b[A\n",
      "Training MAXQ on 1000 runs:   2%|▏         | 23/1000 [00:04<03:13,  5.06it/s]\u001b[A\n",
      "Training MAXQ on 1000 runs:   2%|▎         | 25/1000 [00:04<03:01,  5.37it/s]\u001b[A\n",
      "Training MAXQ on 1000 runs:   3%|▎         | 27/1000 [00:04<02:58,  5.45it/s]\u001b[A\n",
      "Training MAXQ on 1000 runs:   3%|▎         | 29/1000 [00:05<02:52,  5.62it/s]\u001b[A\n",
      "Training MAXQ on 1000 runs:   3%|▎         | 31/1000 [00:05<02:48,  5.74it/s]\u001b[A\n",
      "Training MAXQ on 1000 runs:   3%|▎         | 32/1000 [00:05<02:47,  5.78it/s]\u001b[A\n",
      "Training MAXQ on 1000 runs:   4%|▎         | 36/1000 [00:05<02:31,  6.37it/s]\u001b[A\n",
      "Training MAXQ on 1000 runs:   4%|▍         | 39/1000 [00:05<02:23,  6.71it/s]\u001b[A\n",
      "Training MAXQ on 1000 runs:   4%|▍         | 41/1000 [00:05<02:18,  6.93it/s]\u001b[A\n",
      "Training MAXQ on 1000 runs:   4%|▍         | 43/1000 [00:06<02:14,  7.11it/s]\u001b[A\n",
      "Training MAXQ on 1000 runs:   5%|▍         | 46/1000 [00:06<02:08,  7.43it/s]\u001b[A\n",
      "Training MAXQ on 1000 runs:   5%|▍         | 49/1000 [00:06<02:02,  7.78it/s]\u001b[A\n",
      "Training MAXQ on 1000 runs:   5%|▌         | 52/1000 [00:06<01:57,  8.05it/s]\u001b[A\n",
      "Training MAXQ on 1000 runs:   6%|▌         | 55/1000 [00:06<01:54,  8.27it/s]\u001b[A\n",
      "Training MAXQ on 1000 runs:   6%|▌         | 62/1000 [00:06<01:42,  9.11it/s]\u001b[A\n",
      "Training MAXQ on 1000 runs:   6%|▋         | 65/1000 [00:06<01:39,  9.38it/s]\u001b[A\n",
      "Training MAXQ on 1000 runs:   7%|▋         | 71/1000 [00:07<01:32, 10.07it/s]\u001b[A\n",
      "Training MAXQ on 1000 runs:   8%|▊         | 75/1000 [00:07<01:29, 10.38it/s]\u001b[A\n",
      "Training MAXQ on 1000 runs:   8%|▊         | 78/1000 [00:07<01:26, 10.60it/s]\u001b[A\n",
      "Training MAXQ on 1000 runs:   8%|▊         | 81/1000 [00:07<01:24, 10.86it/s]\u001b[A\n",
      "Training MAXQ on 1000 runs:   8%|▊         | 84/1000 [00:07<01:22, 11.10it/s]\u001b[A\n",
      "Training MAXQ on 1000 runs:   9%|▉         | 88/1000 [00:07<01:19, 11.43it/s]\u001b[A\n",
      "Training MAXQ on 1000 runs:   9%|▉         | 92/1000 [00:07<01:17, 11.71it/s]\u001b[A\n",
      "Training MAXQ on 1000 runs:  10%|▉         | 95/1000 [00:08<01:16, 11.82it/s]\u001b[A\n",
      "Training MAXQ on 1000 runs:  10%|▉         | 99/1000 [00:08<01:14, 12.16it/s]\u001b[A\n",
      "Training MAXQ on 1000 runs:  11%|█         | 106/1000 [00:08<01:09, 12.83it/s]\u001b[A\n",
      "Training MAXQ on 1000 runs:  11%|█         | 111/1000 [00:08<01:07, 13.25it/s]\u001b[A\n",
      "Training MAXQ on 1000 runs:  12%|█▏        | 116/1000 [00:08<01:05, 13.57it/s]\u001b[A\n",
      "Training MAXQ on 1000 runs:  12%|█▏        | 121/1000 [00:08<01:02, 13.98it/s]\u001b[A\n",
      "Training MAXQ on 1000 runs:  13%|█▎        | 127/1000 [00:08<01:00, 14.47it/s]\u001b[A\n",
      "Training MAXQ on 1000 runs:  13%|█▎        | 132/1000 [00:08<00:58, 14.84it/s]\u001b[A\n",
      "Training MAXQ on 1000 runs:  14%|█▎        | 137/1000 [00:09<00:57, 14.93it/s]Exception in thread Thread-4:\n",
      "Traceback (most recent call last):\n",
      "  File \"/home/proprietaire/anaconda3/lib/python3.6/threading.py\", line 916, in _bootstrap_inner\n",
      "    self.run()\n",
      "  File \"/home/proprietaire/anaconda3/lib/python3.6/site-packages/tqdm/_tqdm.py\", line 144, in run\n",
      "    for instance in self.tqdm_cls._instances:\n",
      "  File \"/home/proprietaire/anaconda3/lib/python3.6/_weakrefset.py\", line 60, in __iter__\n",
      "    for itemref in self.data:\n",
      "RuntimeError: Set changed size during iteration\n",
      "\n",
      "Training MAXQ on 1000 runs: 100%|██████████| 1000/1000 [00:17<00:00, 57.22it/s]\n"
     ]
    }
   ],
   "source": [
    "MaxQ_2Rooms = MAXQ(twoRooms, expl0=0, n_iter=1000, optionSet=[downward_option, upward_option], debug=False)"
   ]
  },
  {
   "cell_type": "raw",
   "metadata": {
    "collapsed": true
   },
   "source": [
    "pdb.pm()"
   ]
  },
  {
   "cell_type": "code",
   "execution_count": 7,
   "metadata": {},
   "outputs": [
    {
     "data": {
      "text/plain": [
       "[<matplotlib.lines.Line2D at 0x7f9c523d9400>,\n",
       " <matplotlib.lines.Line2D at 0x7f9c523d95c0>]"
      ]
     },
     "execution_count": 7,
     "metadata": {},
     "output_type": "execute_result"
    },
    {
     "data": {
      "image/png": "[encoded data removed]",
      "text/plain": [
       "<matplotlib.figure.Figure at 0x7f9c68030f28>"
      ]
     },
     "metadata": {},
     "output_type": "display_data"
    }
   ],
   "source": [
    "# plt.plot(range(max(MaxQ_2Rooms.n_iter, P.max_iter)), MaxQ_2Rooms.timeLog, 'r', range(max(MaxQ_2Rooms.n_iter, P.max_iter)), P.timeLog, 'b')\n",
    "plt.plot(range(1000), MaxQ_2Rooms.timeLog[:1000], 'r', range(1000), P.timeLog[:1000], 'b')"
   ]
  },
  {
   "cell_type": "code",
   "execution_count": null,
   "metadata": {
    "collapsed": true
   },
   "outputs": [],
   "source": [
    "print(np.argwhere(array(twoRooms.grid) == '1').ravel())\n",
    "print(np.array(twoRooms.state2coord[40]))"
   ]
  },
  {
   "cell_type": "code",
   "execution_count": null,
   "metadata": {
    "collapsed": true
   },
   "outputs": [],
   "source": [
    "np.linalg.norm([3,3] - np.array(twoRooms.state2coord)[[45,62,12,31,2,78,94]], axis=1) > 5"
   ]
  },
  {
   "cell_type": "code",
   "execution_count": 8,
   "metadata": {
    "collapsed": true
   },
   "outputs": [],
   "source": [
    "def get_DD_map(record_trajectory, static_filter = lambda x: True):\n",
    "    \n",
    "    DD_map = np.zeros((len(twoRooms_grid),len(twoRooms_grid[0])))\n",
    "    count = {}\n",
    "    for s in range(twoRooms.n_states):\n",
    "        count[s] = 0\n",
    "    for traj in record_trajectory:\n",
    "        seen = {}\n",
    "        for x,_,_ in traj:\n",
    "            if not x in seen and static_filter(x):\n",
    "                i,j = twoRooms.state2coord[x]\n",
    "                DD_map[i,j] += 1\n",
    "                seen[x] = True\n",
    "    \n",
    "    return DD_map"
   ]
  },
  {
   "cell_type": "code",
   "execution_count": 9,
   "metadata": {},
   "outputs": [
    {
     "data": {
      "image/png": "[encoded data removed]",
      "text/plain": [
       "<matplotlib.figure.Figure at 0x7f9c52411c88>"
      ]
     },
     "metadata": {},
     "output_type": "display_data"
    }
   ],
   "source": [
    "DD_map_RL = get_DD_map(P.trajLog, static_filter)\n",
    "plt.matshow(DD_map_RL)\n",
    "plt.show()"
   ]
  },
  {
   "cell_type": "code",
   "execution_count": 10,
   "metadata": {},
   "outputs": [
    {
     "data": {
      "image/png": "[encoded data removed]",
      "text/plain": [
       "<matplotlib.figure.Figure at 0x7f9c520fbb38>"
      ]
     },
     "metadata": {},
     "output_type": "display_data"
    }
   ],
   "source": [
    "DD_map_HRL = get_DD_map(MaxQ_2Rooms.trajLog, static_filter)\n",
    "plt.matshow(DD_map_HRL)\n",
    "plt.show()"
   ]
  },
  {
   "cell_type": "code",
   "execution_count": 11,
   "metadata": {},
   "outputs": [
    {
     "name": "stdout",
     "output_type": "stream",
     "text": [
      "[[41, 0.0, False], [21, 0.0, False], [20, 0.0, False], [40, 0.0, False], [41, 0.0, False], [61, 0.0, False], [60, 0.0, False], [61, 0.0, False], [82, 0.0, False], [81, 0.0, False], [101, 0.0, False], [81, 0.0, False], [82, 0.0, False], [61, 0.0, False], [62, 0.0, False], [63, 0.0, False], [64, 0.0, False], [65, 0.0, False], [66, 0.0, False], [67, 0.0, False], [68, 0.0, False], [69, 0.0, False], [70, 0.0, False], [71, 0.0, False], [50, 0.0, False], [51, 0.0, False], [52, 0.0, False], [53, 0.0, False], [54, 0.0, False], [55, 0.0, False], [56, 0.0, False], [36, 0.0, False], [35, 0.0, False], [36, 0.0, False], [35, 0.0, False], [36, 0.0, False], [35, 0.0, False], [36, 0.0, False], [37, 0.0, False], [38, 0.0, False], [39, 1, True]]\n"
     ]
    }
   ],
   "source": [
    "print(MaxQ_2Rooms.lastTraj)"
   ]
  },
  {
   "cell_type": "code",
   "execution_count": 12,
   "metadata": {},
   "outputs": [
    {
     "data": {
      "image/png": "[encoded data removed]",
      "text/plain": [
       "<matplotlib.figure.Figure at 0x7f9c522770b8>"
      ]
     },
     "metadata": {},
     "output_type": "display_data"
    }
   ],
   "source": [
    "DD_map_HRL_Last = get_DD_map([MaxQ_2Rooms.lastTraj], static_filter)\n",
    "plt.matshow(DD_map_HRL_Last)\n",
    "plt.show()"
   ]
  },
  {
   "cell_type": "code",
   "execution_count": 16,
   "metadata": {},
   "outputs": [
    {
     "name": "stdout",
     "output_type": "stream",
     "text": [
      "[[  618.   681.   707.   722.   752.   769.   783.   771.   736.   662.\n",
      "      0.    76.   235.   854.   867.   921.   984.     0.     0.     0.\n",
      "      0.]\n",
      " [  666.   702.   749.   765.   798.   810.   823.   825.   797.   734.\n",
      "      0.   278.   793.   831.   157.   224.   167.     0.     0.     0.\n",
      "      0.]\n",
      " [  685.   724.   765.   788.   815.   825.   835.   868.   853.   810.\n",
      "      0.   287.   766.   253.    48.    71.   100.     0.     0.     0.\n",
      "      0.]\n",
      " [  689.   730.   760.   791.   813.   836.   849.   865.   898.  1000.\n",
      "   1000.  1000.   821.   152.    76.    85.    87.    12.     0.     0.\n",
      "      0.]\n",
      " [  682.   715.   757.   781.   807.   820.   838.   852.   856.   823.\n",
      "      0.   190.   236.   114.    72.    47.    40.    16.    15.    13.\n",
      "      4.]\n",
      " [  658.   712.   734.   767.   791.   810.   824.   815.   787.   746.\n",
      "      0.   110.   123.    87.    53.    43.    30.    13.     9.     6.\n",
      "      4.]\n",
      " [  614.   672.   703.   735.   757.   756.   781.   763.   721.   666.\n",
      "      0.    79.    78.    65.    52.    37.    23.    11.     7.     4.\n",
      "      3.]]\n"
     ]
    }
   ],
   "source": [
    "print(DD_map_HRL)"
   ]
  },
  {
   "cell_type": "code",
   "execution_count": 13,
   "metadata": {},
   "outputs": [
    {
     "name": "stdout",
     "output_type": "stream",
     "text": [
      "[0 0 1 1 1 1 0 1 1 1 0 0 0 0 0 0 0 0 2 0 0 1 1 1 1 1 0 1 1 1 0 0 0 0 1 0 0\n",
      " 0 0 3 0 1 1 1 1 1 1 1 1 1 0 0 0 0 0 0 3 3 3 3 0 0 0 0 0 0 0 0 0 0 0 3 1 3\n",
      " 3 0 3 3 0 0 3 0 3 3 3 3 3 3 3 3 3 3 0 3 3 0 3 3 0 0 3 3 3 3 3 3 3 3 3 3 3\n",
      " 3 0 3 0 0 0 0 0 0 0 0 3 3 3 3 3 3 3 3 3 0 0 0 0 0 0 0 0 0 0]\n"
     ]
    }
   ],
   "source": [
    "print(np.array(MaxQ_2Rooms.policy))"
   ]
  },
  {
   "cell_type": "code",
   "execution_count": 15,
   "metadata": {},
   "outputs": [
    {
     "name": "stdout",
     "output_type": "stream",
     "text": [
      "[ 0.  0.  0.  0.  0.  0.  0.  0.  0.  0.  0.  0.  0.  0.  0.  0.  0.  0.\n",
      "  0.  0.  0.  0.  0.  0.  0.  0.  0.  0.  0.  0.  0.  0.  0.  0.  0.  0.\n",
      "  0.  0.  0.  0.  0.  0.  0.  0.  0.  0.  0.  0.  0.  0.  0.  0.  0.  0.\n",
      "  0.  0.  0.  0.  0.  0.  0.  0.  0.  0.  0.  0.  0.  0.  0.  0.  0.  0.\n",
      "  0.  0.  0.  0.  0.  0.  0.  0.  0.  0.  0.  0.  0.  0.  0.  0.  0.  0.\n",
      "  0.  0.  0.  0.  0.  0.  0.  0.  0.  0.  0.  0.  0.  0.  0.  0.  0.  0.\n",
      "  0.  0.  0.  0.  0.  0.  0.  0.  0.  0.  0.  0.  0.  0.  0.  0.  0.  0.\n",
      "  0.  0.  0.  0.  0.  0.  0.  0.  0.  0.  0.  0.  0.  0.  0.]\n"
     ]
    }
   ],
   "source": [
    "print(np.array(MaxQ_2Rooms.C[0,:,4]))"
   ]
  },
  {
   "cell_type": "code",
   "execution_count": 16,
   "metadata": {},
   "outputs": [
    {
     "name": "stdout",
     "output_type": "stream",
     "text": [
      "[[  8.24218137e-15   1.55019065e-13   2.03355377e-12   2.94877962e-11\n",
      "    7.96752998e-11   1.86962799e-10   7.49602470e-09   5.83795161e-11\n",
      "    8.27899672e-09   0.00000000e+00   0.00000000e+00   0.00000000e+00\n",
      "    0.00000000e+00   0.00000000e+00   0.00000000e+00   0.00000000e+00\n",
      "    0.00000000e+00   2.37500000e-01   0.00000000e+00   0.00000000e+00\n",
      "    1.78682538e-13   2.89370199e-12   4.17128970e-11   9.54001667e-10\n",
      "    5.15327089e-10   7.35007249e-10   2.55430978e-07   1.05871884e-10\n",
      "    9.36487539e-10   0.00000000e+00   0.00000000e+00   0.00000000e+00\n",
      "    0.00000000e+00   5.87321194e-03   0.00000000e+00   5.28257495e-01\n",
      "    6.81689747e-01   8.08133773e-01   8.98492576e-01   0.00000000e+00\n",
      "    5.81657802e-12   7.78585474e-11   1.10520165e-09   1.15207765e-08\n",
      "    1.21929504e-09   1.34533168e-08   8.71120903e-09   7.86794853e-11\n",
      "    5.85928824e-09   0.00000000e+00   2.82159969e-02   5.36029564e-02\n",
      "    9.81491919e-02   1.65740088e-01   2.63266100e-01   3.86996445e-01\n",
      "    0.00000000e+00   0.00000000e+00   0.00000000e+00   0.00000000e+00\n",
      "    1.74788569e-10   6.38548346e-09   1.59750994e-07   1.28965428e-06\n",
      "    6.63269258e-06   2.64735934e-05   8.72526069e-05   2.65172854e-04\n",
      "    7.92528898e-04   2.20159179e-03   5.74818327e-03   1.29171033e-08\n",
      "    0.00000000e+00   0.00000000e+00   0.00000000e+00   0.00000000e+00\n",
      "    0.00000000e+00   0.00000000e+00   0.00000000e+00   1.43919390e-02\n",
      "    0.00000000e+00   8.11288776e-12   1.52060814e-10   6.97620584e-10\n",
      "    1.11039955e-08   2.79395103e-09   4.12613427e-09   2.68389823e-09\n",
      "    1.97112398e-09   3.24855639e-09   0.00000000e+00   0.00000000e+00\n",
      "    0.00000000e+00   0.00000000e+00   0.00000000e+00   0.00000000e+00\n",
      "    0.00000000e+00   0.00000000e+00   0.00000000e+00   4.35414621e-02\n",
      "    0.00000000e+00   1.81629434e-13   4.88693329e-12   2.99880737e-11\n",
      "    1.72255899e-10   2.12123476e-09   7.13814354e-10   9.49909595e-09\n",
      "    5.36037846e-10   9.10631056e-10   0.00000000e+00   0.00000000e+00\n",
      "    0.00000000e+00   0.00000000e+00   0.00000000e+00   0.00000000e+00\n",
      "    0.00000000e+00   0.00000000e+00   0.00000000e+00   0.00000000e+00\n",
      "    0.00000000e+00   8.10225776e-15   1.00695390e-13   1.29347792e-12\n",
      "    5.82005786e-12   6.06596284e-11   7.54578124e-11   2.04274055e-09\n",
      "    4.91036544e-10   3.00115172e-10   0.00000000e+00   0.00000000e+00\n",
      "    0.00000000e+00   0.00000000e+00   0.00000000e+00   0.00000000e+00\n",
      "    0.00000000e+00   0.00000000e+00   0.00000000e+00   0.00000000e+00\n",
      "    0.00000000e+00]\n",
      " [  5.05478765e-15   1.53433612e-13   2.74807429e-12   5.42212391e-11\n",
      "    9.11788373e-10   4.41346188e-09   4.32436777e-09   4.31234578e-07\n",
      "    6.50920185e-08   2.05812775e-06   0.00000000e+00   0.00000000e+00\n",
      "    0.00000000e+00   0.00000000e+00   0.00000000e+00   0.00000000e+00\n",
      "    0.00000000e+00   0.00000000e+00   0.00000000e+00   0.00000000e+00\n",
      "    1.65008024e-13   4.11962790e-12   5.74584694e-11   1.56439502e-09\n",
      "    4.87935889e-08   1.77152787e-07   5.02942442e-09   5.97810297e-06\n",
      "    4.94385910e-06   4.38482649e-05   0.00000000e+00   0.00000000e+00\n",
      "    0.00000000e+00   0.00000000e+00   7.50734826e-02   0.00000000e+00\n",
      "    0.00000000e+00   0.00000000e+00   0.00000000e+00   0.00000000e+00\n",
      "    2.83323182e-12   1.71204307e-10   2.98345337e-09   6.57070463e-08\n",
      "    7.86676367e-07   2.59133075e-06   3.85802110e-06   4.31534226e-05\n",
      "    1.00209731e-04   3.64137665e-04   0.00000000e+00   0.00000000e+00\n",
      "    0.00000000e+00   0.00000000e+00   0.00000000e+00   0.00000000e+00\n",
      "    0.00000000e+00   0.00000000e+00   0.00000000e+00   0.00000000e+00\n",
      "    1.56283884e-13   4.49200801e-12   1.26235074e-11   3.55915093e-12\n",
      "    5.90061839e-12   8.94047651e-12   1.63077324e-11   8.33396481e-13\n",
      "    9.73299580e-12   1.53798111e-11   0.00000000e+00   0.00000000e+00\n",
      "    2.97093376e-07   0.00000000e+00   0.00000000e+00   0.00000000e+00\n",
      "    0.00000000e+00   0.00000000e+00   0.00000000e+00   0.00000000e+00\n",
      "    0.00000000e+00   6.71433888e-13   5.61364321e-13   7.66501506e-10\n",
      "    6.94521256e-10   5.64542329e-09   3.86298236e-09   7.54062456e-12\n",
      "    5.65043236e-12   9.86059804e-12   8.39390692e-10   0.00000000e+00\n",
      "    0.00000000e+00   0.00000000e+00   0.00000000e+00   0.00000000e+00\n",
      "    0.00000000e+00   0.00000000e+00   0.00000000e+00   0.00000000e+00\n",
      "    0.00000000e+00   2.67738787e-14   2.18348133e-14   3.89391664e-11\n",
      "    1.80245790e-11   1.37562742e-09   1.66413676e-10   2.27397700e-09\n",
      "    5.42765567e-10   4.75190666e-11   4.79992611e-09   0.00000000e+00\n",
      "    0.00000000e+00   0.00000000e+00   0.00000000e+00   0.00000000e+00\n",
      "    0.00000000e+00   0.00000000e+00   0.00000000e+00   0.00000000e+00\n",
      "    0.00000000e+00   0.00000000e+00   0.00000000e+00   0.00000000e+00\n",
      "    0.00000000e+00   0.00000000e+00   0.00000000e+00   0.00000000e+00\n",
      "    0.00000000e+00   0.00000000e+00   0.00000000e+00   0.00000000e+00\n",
      "    0.00000000e+00   0.00000000e+00   0.00000000e+00   0.00000000e+00\n",
      "    0.00000000e+00   0.00000000e+00   0.00000000e+00   0.00000000e+00\n",
      "    0.00000000e+00]\n",
      " [  0.00000000e+00   2.34776359e-14   2.78161491e-13   2.15211853e-12\n",
      "    3.63577704e-11   2.88547754e-11   3.36857078e-11   7.05272217e-12\n",
      "    1.09413169e-08   3.78564817e-11   0.00000000e+00   0.00000000e+00\n",
      "    0.00000000e+00   0.00000000e+00   0.00000000e+00   0.00000000e+00\n",
      "    0.00000000e+00   0.00000000e+00   6.66666667e-01   0.00000000e+00\n",
      "    0.00000000e+00   4.84667437e-13   7.87568075e-12   5.26436943e-11\n",
      "    1.34921451e-11   1.22899629e-10   2.60933116e-10   5.68494531e-12\n",
      "    4.44105493e-10   2.22119267e-12   0.00000000e+00   0.00000000e+00\n",
      "    0.00000000e+00   0.00000000e+00   0.00000000e+00   0.00000000e+00\n",
      "    0.00000000e+00   0.00000000e+00   0.00000000e+00   0.00000000e+00\n",
      "    0.00000000e+00   3.59795791e-12   5.88290223e-11   1.47733983e-10\n",
      "    6.44974709e-10   3.78489985e-11   9.79542241e-10   2.45708853e-12\n",
      "    2.91176519e-09   6.55445196e-13   0.00000000e+00   0.00000000e+00\n",
      "    0.00000000e+00   0.00000000e+00   0.00000000e+00   0.00000000e+00\n",
      "    0.00000000e+00   0.00000000e+00   0.00000000e+00   0.00000000e+00\n",
      "    0.00000000e+00   2.90688898e-10   1.51154413e-09   1.36429171e-11\n",
      "    1.78468882e-09   2.25035521e-10   3.59046317e-10   1.13278369e-11\n",
      "    3.99008636e-10   2.60852148e-09   0.00000000e+00   0.00000000e+00\n",
      "    0.00000000e+00   0.00000000e+00   0.00000000e+00   0.00000000e+00\n",
      "    0.00000000e+00   0.00000000e+00   0.00000000e+00   0.00000000e+00\n",
      "    0.00000000e+00   0.00000000e+00   2.42659005e-11   1.15085607e-10\n",
      "    7.12966025e-10   2.38962334e-10   3.06094723e-11   2.18946553e-10\n",
      "    1.48377677e-09   4.57385673e-10   1.97193425e-11   0.00000000e+00\n",
      "    0.00000000e+00   0.00000000e+00   0.00000000e+00   0.00000000e+00\n",
      "    0.00000000e+00   0.00000000e+00   0.00000000e+00   0.00000000e+00\n",
      "    0.00000000e+00   0.00000000e+00   1.06578426e-13   4.94700326e-12\n",
      "    3.53115773e-12   1.51475500e-10   2.13077384e-11   2.63779263e-09\n",
      "    4.44654331e-11   2.97741426e-09   8.28098791e-11   0.00000000e+00\n",
      "    0.00000000e+00   0.00000000e+00   0.00000000e+00   0.00000000e+00\n",
      "    0.00000000e+00   0.00000000e+00   0.00000000e+00   0.00000000e+00\n",
      "    0.00000000e+00   0.00000000e+00   4.47969106e-14   1.10720080e-13\n",
      "    9.38398119e-14   6.79232497e-12   4.14651298e-12   6.68996946e-11\n",
      "    7.67616439e-11   1.54476355e-10   1.33564764e-11   0.00000000e+00\n",
      "    0.00000000e+00   0.00000000e+00   0.00000000e+00   0.00000000e+00\n",
      "    0.00000000e+00   0.00000000e+00   0.00000000e+00   0.00000000e+00\n",
      "    0.00000000e+00]\n",
      " [  0.00000000e+00   0.00000000e+00   0.00000000e+00   0.00000000e+00\n",
      "    0.00000000e+00   0.00000000e+00   0.00000000e+00   0.00000000e+00\n",
      "    0.00000000e+00   0.00000000e+00   0.00000000e+00   0.00000000e+00\n",
      "    0.00000000e+00   0.00000000e+00   0.00000000e+00   0.00000000e+00\n",
      "    0.00000000e+00   0.00000000e+00   0.00000000e+00   0.00000000e+00\n",
      "    1.43057577e-14   9.55775089e-13   1.06728716e-11   1.86544254e-10\n",
      "    3.44868573e-09   1.85325293e-09   5.31437677e-11   7.08299241e-11\n",
      "    4.24448511e-11   4.79233444e-11   0.00000000e+00   0.00000000e+00\n",
      "    0.00000000e+00   0.00000000e+00   0.00000000e+00   0.00000000e+00\n",
      "    0.00000000e+00   0.00000000e+00   0.00000000e+00   9.73472135e-01\n",
      "    3.96743920e-13   4.63750640e-13   5.61524542e-11   2.61888470e-10\n",
      "    1.02864009e-10   3.95088220e-09   4.80398388e-09   1.41621420e-09\n",
      "    8.40834208e-12   2.00071489e-10   0.00000000e+00   0.00000000e+00\n",
      "    0.00000000e+00   0.00000000e+00   0.00000000e+00   0.00000000e+00\n",
      "    5.34982115e-01   5.21074146e-02   3.98960111e-01   8.39723344e-01\n",
      "    1.36283084e-13   2.85682938e-12   1.36749619e-11   8.40107993e-12\n",
      "    1.25611754e-11   5.70406002e-12   1.68940450e-11   1.99748738e-12\n",
      "    3.91688607e-13   6.39923855e-12   0.00000000e+00   1.34086463e-02\n",
      "    0.00000000e+00   5.08331024e-03   1.91933645e-04   0.00000000e+00\n",
      "    1.99083312e-04   3.59712563e-01   0.00000000e+00   0.00000000e+00\n",
      "    5.14156040e-01   4.36131059e-12   2.16844327e-10   5.17894347e-09\n",
      "    3.32044929e-08   3.51337062e-07   2.87472523e-06   7.22382707e-06\n",
      "    4.03755887e-05   1.02322401e-04   2.94073491e-04   5.41201683e-03\n",
      "    0.00000000e+00   3.45561707e-05   5.40081142e-06   0.00000000e+00\n",
      "    5.30200207e-06   1.59766234e-01   0.00000000e+00   0.00000000e+00\n",
      "    2.35474352e-01   2.84188419e-13   6.49299492e-12   1.71979280e-10\n",
      "    1.03428074e-09   7.84255676e-09   1.65172436e-07   2.54553114e-07\n",
      "    4.73660785e-06   8.71814856e-06   2.64860042e-05   1.21365585e-03\n",
      "    0.00000000e+00   4.90878563e-07   0.00000000e+00   0.00000000e+00\n",
      "    0.00000000e+00   0.00000000e+00   0.00000000e+00   0.00000000e+00\n",
      "    0.00000000e+00   6.54174155e-15   1.89158096e-13   3.02695963e-12\n",
      "    4.05232485e-11   1.46058120e-10   1.98885552e-09   4.22818009e-09\n",
      "    1.58494752e-07   4.91021551e-07   1.05608668e-06   0.00000000e+00\n",
      "    0.00000000e+00   0.00000000e+00   0.00000000e+00   0.00000000e+00\n",
      "    0.00000000e+00   0.00000000e+00   0.00000000e+00   0.00000000e+00\n",
      "    0.00000000e+00]\n",
      " [  0.00000000e+00   0.00000000e+00   0.00000000e+00   0.00000000e+00\n",
      "    0.00000000e+00   0.00000000e+00   0.00000000e+00   0.00000000e+00\n",
      "    0.00000000e+00   0.00000000e+00   0.00000000e+00   0.00000000e+00\n",
      "    0.00000000e+00   0.00000000e+00   0.00000000e+00   0.00000000e+00\n",
      "    0.00000000e+00   0.00000000e+00   0.00000000e+00   0.00000000e+00\n",
      "    0.00000000e+00   0.00000000e+00   0.00000000e+00   0.00000000e+00\n",
      "    0.00000000e+00   0.00000000e+00   0.00000000e+00   0.00000000e+00\n",
      "    0.00000000e+00   0.00000000e+00   0.00000000e+00   0.00000000e+00\n",
      "    0.00000000e+00   0.00000000e+00   0.00000000e+00   0.00000000e+00\n",
      "    0.00000000e+00   0.00000000e+00   0.00000000e+00   0.00000000e+00\n",
      "    0.00000000e+00   0.00000000e+00   0.00000000e+00   0.00000000e+00\n",
      "    0.00000000e+00   0.00000000e+00   0.00000000e+00   0.00000000e+00\n",
      "    0.00000000e+00   0.00000000e+00   0.00000000e+00   0.00000000e+00\n",
      "    0.00000000e+00   0.00000000e+00   0.00000000e+00   0.00000000e+00\n",
      "    0.00000000e+00   0.00000000e+00   0.00000000e+00   0.00000000e+00\n",
      "    0.00000000e+00   0.00000000e+00   0.00000000e+00   0.00000000e+00\n",
      "    0.00000000e+00   0.00000000e+00   0.00000000e+00   0.00000000e+00\n",
      "    0.00000000e+00   0.00000000e+00   0.00000000e+00   0.00000000e+00\n",
      "    0.00000000e+00   0.00000000e+00   0.00000000e+00   0.00000000e+00\n",
      "    0.00000000e+00   0.00000000e+00   0.00000000e+00   0.00000000e+00\n",
      "    0.00000000e+00   0.00000000e+00   0.00000000e+00   0.00000000e+00\n",
      "    0.00000000e+00   0.00000000e+00   0.00000000e+00   0.00000000e+00\n",
      "    0.00000000e+00   0.00000000e+00   0.00000000e+00   0.00000000e+00\n",
      "    0.00000000e+00   0.00000000e+00   0.00000000e+00   0.00000000e+00\n",
      "    0.00000000e+00   0.00000000e+00   0.00000000e+00   0.00000000e+00\n",
      "    0.00000000e+00   0.00000000e+00   0.00000000e+00   0.00000000e+00\n",
      "    0.00000000e+00   0.00000000e+00   0.00000000e+00   0.00000000e+00\n",
      "    0.00000000e+00   0.00000000e+00   0.00000000e+00   0.00000000e+00\n",
      "    0.00000000e+00   0.00000000e+00   0.00000000e+00   0.00000000e+00\n",
      "    0.00000000e+00   0.00000000e+00   0.00000000e+00   0.00000000e+00\n",
      "    0.00000000e+00   0.00000000e+00   0.00000000e+00   0.00000000e+00\n",
      "    0.00000000e+00   0.00000000e+00   0.00000000e+00   0.00000000e+00\n",
      "    0.00000000e+00   0.00000000e+00   0.00000000e+00   0.00000000e+00\n",
      "    0.00000000e+00   0.00000000e+00   0.00000000e+00   0.00000000e+00\n",
      "    0.00000000e+00   0.00000000e+00   0.00000000e+00   0.00000000e+00\n",
      "    0.00000000e+00]\n",
      " [  0.00000000e+00   0.00000000e+00   0.00000000e+00   0.00000000e+00\n",
      "    0.00000000e+00   0.00000000e+00   0.00000000e+00   0.00000000e+00\n",
      "    0.00000000e+00   0.00000000e+00   0.00000000e+00   0.00000000e+00\n",
      "    0.00000000e+00   0.00000000e+00   0.00000000e+00   0.00000000e+00\n",
      "    0.00000000e+00   0.00000000e+00   0.00000000e+00   0.00000000e+00\n",
      "    0.00000000e+00   0.00000000e+00   0.00000000e+00   0.00000000e+00\n",
      "    0.00000000e+00   0.00000000e+00   0.00000000e+00   0.00000000e+00\n",
      "    0.00000000e+00   0.00000000e+00   0.00000000e+00   0.00000000e+00\n",
      "    0.00000000e+00   0.00000000e+00   0.00000000e+00   0.00000000e+00\n",
      "    0.00000000e+00   0.00000000e+00   0.00000000e+00   0.00000000e+00\n",
      "    0.00000000e+00   0.00000000e+00   0.00000000e+00   0.00000000e+00\n",
      "    0.00000000e+00   0.00000000e+00   0.00000000e+00   0.00000000e+00\n",
      "    0.00000000e+00   0.00000000e+00   0.00000000e+00   0.00000000e+00\n",
      "    0.00000000e+00   0.00000000e+00   0.00000000e+00   0.00000000e+00\n",
      "    0.00000000e+00   0.00000000e+00   0.00000000e+00   0.00000000e+00\n",
      "    0.00000000e+00   0.00000000e+00   0.00000000e+00   0.00000000e+00\n",
      "    0.00000000e+00   0.00000000e+00   0.00000000e+00   0.00000000e+00\n",
      "    0.00000000e+00   0.00000000e+00   0.00000000e+00   0.00000000e+00\n",
      "    0.00000000e+00   0.00000000e+00   0.00000000e+00   0.00000000e+00\n",
      "    0.00000000e+00   0.00000000e+00   0.00000000e+00   0.00000000e+00\n",
      "    0.00000000e+00   0.00000000e+00   0.00000000e+00   0.00000000e+00\n",
      "    0.00000000e+00   0.00000000e+00   0.00000000e+00   0.00000000e+00\n",
      "    0.00000000e+00   0.00000000e+00   0.00000000e+00   0.00000000e+00\n",
      "    0.00000000e+00   0.00000000e+00   0.00000000e+00   0.00000000e+00\n",
      "    0.00000000e+00   0.00000000e+00   0.00000000e+00   0.00000000e+00\n",
      "    0.00000000e+00   0.00000000e+00   0.00000000e+00   0.00000000e+00\n",
      "    0.00000000e+00   0.00000000e+00   0.00000000e+00   0.00000000e+00\n",
      "    0.00000000e+00   0.00000000e+00   0.00000000e+00   0.00000000e+00\n",
      "    0.00000000e+00   0.00000000e+00   0.00000000e+00   0.00000000e+00\n",
      "    0.00000000e+00   0.00000000e+00   0.00000000e+00   0.00000000e+00\n",
      "    0.00000000e+00   0.00000000e+00   0.00000000e+00   0.00000000e+00\n",
      "    0.00000000e+00   0.00000000e+00   0.00000000e+00   0.00000000e+00\n",
      "    0.00000000e+00   0.00000000e+00   0.00000000e+00   0.00000000e+00\n",
      "    0.00000000e+00   0.00000000e+00   0.00000000e+00   0.00000000e+00\n",
      "    0.00000000e+00   0.00000000e+00   0.00000000e+00   0.00000000e+00\n",
      "    0.00000000e+00]]\n"
     ]
    }
   ],
   "source": [
    "print(np.array(MaxQ_2Rooms.Q))"
   ]
  },
  {
   "cell_type": "code",
   "execution_count": null,
   "metadata": {
    "collapsed": true
   },
   "outputs": [],
   "source": []
  }
 ],
 "metadata": {
  "kernelspec": {
   "display_name": "Python 3",
   "language": "python",
   "name": "python3"
  },
  "language_info": {
   "codemirror_mode": {
    "name": "ipython",
    "version": 3
   },
   "file_extension": ".py",
   "mimetype": "text/x-python",
   "name": "python",
   "nbconvert_exporter": "python",
   "pygments_lexer": "ipython3",
   "version": "3.6.2"
  }
 },
 "nbformat": 4,
 "nbformat_minor": 2
}
