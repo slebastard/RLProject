{
 "cells": [
  {
   "cell_type": "code",
   "execution_count": 1,
   "metadata": {},
   "outputs": [
    {
     "name": "stdout",
     "output_type": "stream",
     "text": [
      "Populating the interactive namespace from numpy and matplotlib\n"
     ]
    }
   ],
   "source": [
    "import numpy as np\n",
    "import matplotlib.pyplot as plt\n",
    "import gridrender as gui\n",
    "import math\n",
    "import os\n",
    "import time\n",
    "import pdb\n",
    "import numbers\n",
    "\n",
    "from gridworld import GridWorld, two_rooms_grid, two_rooms_computeOptions\n",
    "from RL_methods import PolicyLearning, ValueLearning\n",
    "from HRL_methods import Option, MAXQ\n",
    "from anytree import Node, PreOrderIter\n",
    "from anytree.search import findall_by_attr\n",
    "from anytree.render import RenderTree\n",
    "\n",
    "%matplotlib inline\n",
    "%pylab inline\n",
    "pylab.rcParams['figure.figsize'] = (10, 6)"
   ]
  },
  {
   "cell_type": "code",
   "execution_count": 2,
   "metadata": {
    "collapsed": true
   },
   "outputs": [],
   "source": [
    "twoRooms_grid = two_rooms_grid(room_width=10, room_height=7, doorway_pos=3, doorway_height=1, goal_height=0)\n",
    "twoRooms = GridWorld(gamma=0.95, grid=twoRooms_grid)"
   ]
  },
  {
   "cell_type": "markdown",
   "metadata": {},
   "source": [
    "## Value estimation in RL\n",
    "\n",
    "Let's define a first policy that we will test the problem with:"
   ]
  },
  {
   "cell_type": "code",
   "execution_count": null,
   "metadata": {
    "collapsed": true
   },
   "outputs": [],
   "source": [
    "def policy1(state,GridWorld):\n",
    "    if 0 in GridWorld.state_actions[state]:\n",
    "        action = 0\n",
    "    elif 3 in GridWorld.state_actions[state]:\n",
    "        action = 3\n",
    "    elif 1 in GridWorld.state_actions[state]:\n",
    "        action = 1\n",
    "    else:\n",
    "        action = 2\n",
    "    return action    "
   ]
  },
  {
   "cell_type": "code",
   "execution_count": null,
   "metadata": {
    "collapsed": true
   },
   "outputs": [],
   "source": [
    "Q4_ValEst = ValueLearning(1,twoRooms,policy1)\n",
    "Q4_ValEst.run()\n",
    "Q4_ValEst.render()"
   ]
  },
  {
   "cell_type": "markdown",
   "metadata": {},
   "source": [
    "## Policy learning in RL"
   ]
  },
  {
   "cell_type": "code",
   "execution_count": 3,
   "metadata": {},
   "outputs": [
    {
     "name": "stdout",
     "output_type": "stream",
     "text": [
      "Stats from last run\n",
      "Mean reward cumulated over single episode: 2484.39\n"
     ]
    },
    {
     "data": {
      "image/png": "[encoded data removed]",
      "text/plain": [
       "<matplotlib.figure.Figure at 0x7f44e84db0f0>"
      ]
     },
     "metadata": {},
     "output_type": "display_data"
    }
   ],
   "source": [
    "P = PolicyLearning(ind=0, GridWorld=twoRooms)\n",
    "P.run()\n",
    "P.stats()\n",
    "P.render()\n",
    "\n",
    "gui.render_policy(P.GridWorld, P.policy)"
   ]
  },
  {
   "cell_type": "markdown",
   "metadata": {},
   "source": [
    "## Hierarchical RL\n",
    "### MAXQ Algorithm\n",
    "\n",
    "We will build an option $O_{downward}$ with the following characteristics:\n",
    "- non-zero probability of being triggered everywhere in the left room, above the doorway\n",
    "- null probability of being triggered everywhere in the right room\n",
    "- when triggered, moves downward until it reaches the level of doorway, then moves right towards it\n",
    "- stops when reaching the grid element just in front of the door from the left room to the right room\n",
    "\n",
    "Similarly, we will build the $O_{upward}$ that is exactly symmetrical of $O_{downward}$, allowing to reach the doorway from every element in the lower part of the left room."
   ]
  },
  {
   "cell_type": "code",
   "execution_count": 4,
   "metadata": {
    "collapsed": true
   },
   "outputs": [],
   "source": [
    "[downward_initSet,upward_initSet, quitMap, downward_policy_matrix, upward_policy_matrix] = two_rooms_computeOptions(room_width=10, room_height=7, doorway_pos=3, doorway_height=1)\n",
    "\n",
    "def downward_policy(coords):\n",
    "    return downward_policy_matrix[coords[0],coords[1]]\n",
    "def upward_policy(coords):\n",
    "    return upward_policy_matrix[coords[0],coords[1]]\n",
    "\n",
    "downward_option = Option(downward_initSet, downward_policy, quitMap, name='Downward to doorway')\n",
    "upward_option = Option(upward_initSet, upward_policy, quitMap, name='Upward to doorway')\n",
    "\n",
    "# print(downward_policy_matrix)\n",
    "# print(upward_policy_matrix)\n",
    "# print(downward_initSet)\n",
    "# print(upward_initSet)\n",
    "# print(quitMap)"
   ]
  },
  {
   "cell_type": "code",
   "execution_count": 5,
   "metadata": {},
   "outputs": [
    {
     "name": "stderr",
     "output_type": "stream",
     "text": [
      "Training MAXQ on 5000 runs: 100%|██████████| 5000/5000 [00:00<00:00, 42967.56it/s]"
     ]
    },
    {
     "name": "stdout",
     "output_type": "stream",
     "text": [
      "Root\n",
      "├── right\n",
      "├── down\n",
      "├── left\n",
      "├── up\n",
      "├── Downward to doorway\n",
      "│   ├── right\n",
      "│   ├── down\n",
      "│   ├── left\n",
      "│   └── up\n",
      "└── Upward to doorway\n",
      "    ├── right\n",
      "    ├── down\n",
      "    ├── left\n",
      "    └── up\n"
     ]
    },
    {
     "name": "stderr",
     "output_type": "stream",
     "text": [
      "\n"
     ]
    }
   ],
   "source": [
    "MaxQ_2Rooms = MAXQ(twoRooms, alpha0=0.25, expl0=0.9, n_iter=5000, optionSet=[downward_option, upward_option], debug=False)"
   ]
  },
  {
   "cell_type": "code",
   "execution_count": 7,
   "metadata": {},
   "outputs": [
    {
     "data": {
      "text/plain": [
       "[<matplotlib.lines.Line2D at 0x7f44bdf7a390>,\n",
       " <matplotlib.lines.Line2D at 0x7f44bdf7a3c8>]"
      ]
     },
     "execution_count": 7,
     "metadata": {},
     "output_type": "execute_result"
    },
    {
     "data": {
      "image/png": "[encoded data removed]",
      "text/plain": [
       "<matplotlib.figure.Figure at 0x7f44bdf155f8>"
      ]
     },
     "metadata": {},
     "output_type": "display_data"
    }
   ],
   "source": [
    "# plt.plot(range(max(MaxQ_2Rooms.n_iter, P.max_iter)), MaxQ_2Rooms.timeLog, 'r', range(max(MaxQ_2Rooms.n_iter, P.max_iter)), P.timeLog, 'b')\n",
    "plt.plot(range(50), MaxQ_2Rooms.timeLog[:50], 'r', range(50), P.timeLog[:50], 'b')"
   ]
  },
  {
   "cell_type": "code",
   "execution_count": 11,
   "metadata": {},
   "outputs": [
    {
     "name": "stdout",
     "output_type": "stream",
     "text": [
      "[[  0   1   2   3   4   5   6   7   8   9  -1  10  11  12  13  14  15  16\n",
      "   17  18  19]\n",
      " [ 20  21  22  23  24  25  26  27  28  29  -1  30  31  32  33  34  35  36\n",
      "   37  38  39]\n",
      " [ 40  41  42  43  44  45  46  47  48  49  -1  50  51  52  53  54  55  56\n",
      "   57  58  59]\n",
      " [ 60  61  62  63  64  65  66  67  68  69  70  71  72  73  74  75  76  77\n",
      "   78  79  80]\n",
      " [ 81  82  83  84  85  86  87  88  89  90  -1  91  92  93  94  95  96  97\n",
      "   98  99 100]\n",
      " [101 102 103 104 105 106 107 108 109 110  -1 111 112 113 114 115 116 117\n",
      "  118 119 120]\n",
      " [121 122 123 124 125 126 127 128 129 130  -1 131 132 133 134 135 136 137\n",
      "  138 139 140]]\n"
     ]
    }
   ],
   "source": [
    "print(MaxQ_2Rooms.GridWorld.coord2state)"
   ]
  },
  {
   "cell_type": "code",
   "execution_count": 9,
   "metadata": {},
   "outputs": [
    {
     "name": "stdout",
     "output_type": "stream",
     "text": [
      "[['', '', '', '', '', '', '', '', '', '', 'x', '', '', '', '', '', '', '', '', '', 1], ['', '', '', '', '', '', '', '', '', '', 'x', '', '', '', '', '', '', '', '', '', ''], ['', '', '', '', '', '', '', '', '', '', 'x', '', '', '', '', '', '', '', '', '', ''], ['', '', '', '', '', '', '', '', '', '', '', '', '', '', '', '', '', '', '', '', ''], ['', '', '', '', '', '', '', '', '', '', 'x', '', '', '', '', '', '', '', '', '', ''], ['', '', '', '', '', '', '', '', '', '', 'x', '', '', '', '', '', '', '', '', '', ''], ['', '', '', '', '', '', '', '', '', '', 'x', '', '', '', '', '', '', '', '', '', '']]\n"
     ]
    }
   ],
   "source": [
    "print(MaxQ_2Rooms.GridWorld.grid)"
   ]
  },
  {
   "cell_type": "code",
   "execution_count": 12,
   "metadata": {},
   "outputs": [
    {
     "data": {
      "text/plain": [
       "[<matplotlib.lines.Line2D at 0x7f44bd619400>]"
      ]
     },
     "execution_count": 12,
     "metadata": {},
     "output_type": "execute_result"
    },
    {
     "data": {
      "image/png": "[encoded data removed]",
      "text/plain": [
       "<matplotlib.figure.Figure at 0x7f44bf02cd68>"
      ]
     },
     "metadata": {},
     "output_type": "display_data"
    }
   ],
   "source": [
    "plt.plot(range(50), MaxQ_2Rooms.timeLog[:50])"
   ]
  },
  {
   "cell_type": "code",
   "execution_count": null,
   "metadata": {
    "collapsed": true
   },
   "outputs": [],
   "source": []
  }
 ],
 "metadata": {
  "kernelspec": {
   "display_name": "Python 3",
   "language": "python",
   "name": "python3"
  },
  "language_info": {
   "codemirror_mode": {
    "name": "ipython",
    "version": 3
   },
   "file_extension": ".py",
   "mimetype": "text/x-python",
   "name": "python",
   "nbconvert_exporter": "python",
   "pygments_lexer": "ipython3",
   "version": "3.6.2"
  }
 },
 "nbformat": 4,
 "nbformat_minor": 2
}
