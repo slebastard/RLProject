{
 "cells": [
  {
   "cell_type": "code",
   "execution_count": 1,
   "metadata": {
    "collapsed": false
   },
   "outputs": [
    {
     "name": "stdout",
     "output_type": "stream",
     "text": [
      "Populating the interactive namespace from numpy and matplotlib\n"
     ]
    }
   ],
   "source": [
    "import numpy as np\n",
    "import matplotlib.pyplot as plt\n",
    "import gridrender as gui\n",
    "import math\n",
    "import os\n",
    "import time\n",
    "import pdb\n",
    "import numbers\n",
    "\n",
    "from gridworld import GridWorld, two_rooms_grid, two_rooms_computeOptions\n",
    "from RL_methods import PolicyLearning, ValueLearning\n",
    "from HRL_methods import Option, MAXQ\n",
    "from anytree import Node, PreOrderIter\n",
    "from anytree.search import findall_by_attr\n",
    "from anytree.render import RenderTree\n",
    "\n",
    "%matplotlib inline\n",
    "%pylab inline\n",
    "pylab.rcParams['figure.figsize'] = (10, 6)"
   ]
  },
  {
   "cell_type": "code",
   "execution_count": 16,
   "metadata": {
    "collapsed": true
   },
   "outputs": [],
   "source": [
    "import tqdm"
   ]
  },
  {
   "cell_type": "markdown",
   "metadata": {},
   "source": [
    "# Two Room Setting for Option Discovery"
   ]
  },
  {
   "cell_type": "code",
   "execution_count": 2,
   "metadata": {
    "collapsed": true
   },
   "outputs": [],
   "source": [
    "twoRooms_grid = two_rooms_grid(room_width=10, room_height=10, doorway_pos=5, doorway_height=2, goal_height=0)"
   ]
  },
  {
   "cell_type": "code",
   "execution_count": 3,
   "metadata": {
    "collapsed": false
   },
   "outputs": [
    {
     "name": "stdout",
     "output_type": "stream",
     "text": [
      "..........x.........1\n",
      "..........x..........\n",
      "..........x..........\n",
      "..........x..........\n",
      ".....................\n",
      ".....................\n",
      "..........x..........\n",
      "..........x..........\n",
      "..........x..........\n",
      "..........x..........\n"
     ]
    }
   ],
   "source": [
    "for line in twoRooms_grid:\n",
    "    print(\"\".join(map(lambda x: '.' if x == '' else str(x),line)))"
   ]
  },
  {
   "cell_type": "markdown",
   "metadata": {},
   "source": [
    "## Reseting density\n",
    "We have modified the gridworld code so that to specify a specific resetting density (here we want x0 to be in the left hand room)"
   ]
  },
  {
   "cell_type": "code",
   "execution_count": 4,
   "metadata": {
    "collapsed": false
   },
   "outputs": [],
   "source": [
    "# reset density : uniform in left hand side\n",
    "reset_density = np.zeros((len(twoRooms_grid),len(twoRooms_grid[0])))\n",
    "for i in range(reset_density.shape[0]):\n",
    "    for j in range(reset_density.shape[1]):\n",
    "        if twoRooms_grid[i][j] != 'x' and 'x' in twoRooms_grid[i][j:]:\n",
    "            reset_density[i][j] = 1\n",
    "reset_density /= reset_density.sum()"
   ]
  },
  {
   "cell_type": "code",
   "execution_count": 5,
   "metadata": {
    "collapsed": false
   },
   "outputs": [],
   "source": [
    "twoRooms = GridWorld(gamma=0.9, grid=twoRooms_grid, reset_density=reset_density)"
   ]
  },
  {
   "cell_type": "markdown",
   "metadata": {},
   "source": [
    "## Testing the reseting density\n",
    "The 'o' marks the starting point, it should always be in the left hand side."
   ]
  },
  {
   "cell_type": "code",
   "execution_count": 6,
   "metadata": {
    "collapsed": false
   },
   "outputs": [
    {
     "name": "stdout",
     "output_type": "stream",
     "text": [
      "o.........x.........1\n",
      "..........x..........\n",
      "..........x..........\n",
      "..........x..........\n",
      ".....................\n",
      ".....................\n",
      "..........x..........\n",
      "..........x..........\n",
      "..........x..........\n",
      "..........x..........\n"
     ]
    }
   ],
   "source": [
    "x0 = twoRooms.reset()\n",
    "i,j = twoRooms.state2coord[x0]\n",
    "twoRooms_grid = two_rooms_grid(room_width=10, room_height=10, doorway_pos=5, doorway_height=2, goal_height=0)\n",
    "twoRooms_grid[i][j] = 'o'\n",
    "for line in twoRooms_grid:\n",
    "    print(\"\".join(map(lambda x: '.' if x == '' else str(x),line)))"
   ]
  },
  {
   "cell_type": "markdown",
   "metadata": {},
   "source": [
    "## 40 episodes Q-Learning"
   ]
  },
  {
   "cell_type": "code",
   "execution_count": 7,
   "metadata": {
    "collapsed": true
   },
   "outputs": [],
   "source": [
    "P = PolicyLearning(ind=0, GridWorld=twoRooms, max_iter=40)\n",
    "record_trajectory = []\n",
    "P.run(record_trajectory = record_trajectory)"
   ]
  },
  {
   "cell_type": "markdown",
   "metadata": {},
   "source": [
    "## Compute the Diverse Density of state s"
   ]
  },
  {
   "cell_type": "code",
   "execution_count": 116,
   "metadata": {
    "collapsed": false
   },
   "outputs": [],
   "source": [
    "def gaussian_dist(center,B):\n",
    "    center_np = np.array(twoRooms.state2coord[center])\n",
    "    B_np = np.array(twoRooms.state2coord[B])\n",
    "    return np.exp(-np.linalg.norm(B_np-center_np))\n",
    "\n",
    "def DD_old(s, record_trajectory, static_filter = lambda x: True):\n",
    "    \n",
    "    log_sum = 0\n",
    "    for traj in record_trajectory:\n",
    "        product = 1\n",
    "        for x,a,r in traj:\n",
    "            if static_filter(x):\n",
    "                product *= (1-gaussian_dist(center=s,B=x))\n",
    "        log_sum += np.log(1-product)\n",
    "    \n",
    "    return log_sum\n",
    "\n",
    "def get_DD_map(record_trajectory, static_filter = lambda x: True):\n",
    "    \n",
    "    DD_map = np.zeros((len(twoRooms_grid),len(twoRooms_grid[0])))\n",
    "    count = {}\n",
    "    for s in range(twoRooms.n_states):\n",
    "        count[s] = 0\n",
    "    for traj in record_trajectory:\n",
    "        seen = {}\n",
    "        for x,_,_ in traj:\n",
    "            if not x in seen and static_filter(x):\n",
    "                i,j = twoRooms.state2coord[x]\n",
    "                DD_map[i,j] += 1\n",
    "                seen[x] = True\n",
    "    \n",
    "    return DD_map"
   ]
  },
  {
   "cell_type": "code",
   "execution_count": 117,
   "metadata": {
    "collapsed": false
   },
   "outputs": [
    {
     "name": "stdout",
     "output_type": "stream",
     "text": [
      "..........x......~~~~\n",
      "..........x......~~~~\n",
      "..........x......~~~~\n",
      "..........x.......~~~\n",
      ".....................\n",
      ".....................\n",
      "..........x..........\n",
      "..........x..........\n",
      "..........x..........\n",
      "..........x..........\n"
     ]
    }
   ],
   "source": [
    "def static_filter(s,dist_to_goal=4):\n",
    "    objective = np.array([0,len(twoRooms_grid[0])-1])\n",
    "    coord_s = np.array(twoRooms.state2coord[s])\n",
    "    return np.linalg.norm(objective-coord_s) >= dist_to_goal\n",
    "twoRooms_grid = two_rooms_grid(room_width=10, room_height=10, doorway_pos=5, doorway_height=2, goal_height=0)\n",
    "for s in range(twoRooms.n_states):\n",
    "    if not static_filter(s,4):\n",
    "        i,j = twoRooms.state2coord[s]\n",
    "        twoRooms_grid[i][j] = \"~\"\n",
    "for line in twoRooms_grid:\n",
    "    print(\"\".join(map(lambda x: '.' if x == '' else str(x),line)))"
   ]
  },
  {
   "cell_type": "code",
   "execution_count": 118,
   "metadata": {
    "collapsed": false
   },
   "outputs": [],
   "source": [
    "DD_map = get_DD_map(record_trajectory, static_filter)"
   ]
  },
  {
   "cell_type": "code",
   "execution_count": 119,
   "metadata": {
    "collapsed": false
   },
   "outputs": [
    {
     "data": {
      "image/png": "[encoded data removed]",
      "text/plain": [
       "<matplotlib.figure.Figure at 0x7f47e8717c50>"
      ]
     },
     "metadata": {},
     "output_type": "display_data"
    }
   ],
   "source": [
    "plt.matshow(DD_map)\n",
    "plt.show()"
   ]
  },
  {
   "cell_type": "code",
   "execution_count": null,
   "metadata": {
    "collapsed": true
   },
   "outputs": [],
   "source": []
  }
 ],
 "metadata": {
  "kernelspec": {
   "display_name": "Python 3",
   "language": "python",
   "name": "python3"
  },
  "language_info": {
   "codemirror_mode": {
    "name": "ipython",
    "version": 3
   },
   "file_extension": ".py",
   "mimetype": "text/x-python",
   "name": "python",
   "nbconvert_exporter": "python",
   "pygments_lexer": "ipython3",
   "version": "3.6.4"
  }
 },
 "nbformat": 4,
 "nbformat_minor": 2
}
