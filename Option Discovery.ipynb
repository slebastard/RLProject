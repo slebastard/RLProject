{
 "cells": [
  {
   "cell_type": "code",
   "execution_count": 1,
   "metadata": {
    "collapsed": false
   },
   "outputs": [
    {
     "name": "stdout",
     "output_type": "stream",
     "text": [
      "Populating the interactive namespace from numpy and matplotlib\n"
     ]
    }
   ],
   "source": [
    "import numpy as np\n",
    "import matplotlib.pyplot as plt\n",
    "import gridrender as gui\n",
    "import math\n",
    "import os\n",
    "import time\n",
    "import pdb\n",
    "import numbers\n",
    "\n",
    "from gridworld import GridWorld, two_rooms_grid, two_rooms_computeOptions\n",
    "from RL_methods import PolicyLearning, ValueLearning\n",
    "from HRL_methods import Option, MAXQ\n",
    "from anytree import Node, PreOrderIter\n",
    "from anytree.search import findall_by_attr\n",
    "from anytree.render import RenderTree\n",
    "\n",
    "%matplotlib inline\n",
    "%pylab inline\n",
    "pylab.rcParams['figure.figsize'] = (10, 6)"
   ]
  },
  {
   "cell_type": "markdown",
   "metadata": {},
   "source": [
    "# Two Room Setting for Option Discovery"
   ]
  },
  {
   "cell_type": "code",
   "execution_count": 2,
   "metadata": {
    "collapsed": true
   },
   "outputs": [],
   "source": [
    "twoRooms_grid = two_rooms_grid(room_width=10, room_height=10, doorway_pos=5, doorway_height=2, goal_height=0)"
   ]
  },
  {
   "cell_type": "code",
   "execution_count": 3,
   "metadata": {
    "collapsed": false
   },
   "outputs": [
    {
     "name": "stdout",
     "output_type": "stream",
     "text": [
      "..........x.........1\n",
      "..........x..........\n",
      "..........x..........\n",
      "..........x..........\n",
      ".....................\n",
      ".....................\n",
      "..........x..........\n",
      "..........x..........\n",
      "..........x..........\n",
      "..........x..........\n"
     ]
    }
   ],
   "source": [
    "for line in twoRooms_grid:\n",
    "    print(\"\".join(map(lambda x: '.' if x == '' else str(x),line)))"
   ]
  },
  {
   "cell_type": "markdown",
   "metadata": {},
   "source": [
    "## Reseting density\n",
    "We have modified the gridworld code so that to specify a specific resetting density (here we want x0 to be in the left hand room)"
   ]
  },
  {
   "cell_type": "code",
   "execution_count": 9,
   "metadata": {
    "collapsed": false
   },
   "outputs": [],
   "source": [
    "# reset density : uniform in left hand side\n",
    "reset_density = np.zeros((len(twoRooms_grid),len(twoRooms_grid[0])))\n",
    "for i in range(reset_density.shape[0]):\n",
    "    for j in range(reset_density.shape[1]):\n",
    "        if twoRooms_grid[i][j] != 'x' and 'x' in twoRooms_grid[i][j:]:\n",
    "            reset_density[i][j] = 1\n",
    "reset_density /= reset_density.sum()"
   ]
  },
  {
   "cell_type": "code",
   "execution_count": 10,
   "metadata": {
    "collapsed": false
   },
   "outputs": [],
   "source": [
    "twoRooms = GridWorld(gamma=0.9, grid=twoRooms_grid, reset_density=reset_density)"
   ]
  },
  {
   "cell_type": "markdown",
   "metadata": {},
   "source": [
    "## Testing the reseting density\n",
    "The 'o' marks the starting point, it should always be in the left hand side."
   ]
  },
  {
   "cell_type": "code",
   "execution_count": 12,
   "metadata": {
    "collapsed": false
   },
   "outputs": [
    {
     "name": "stdout",
     "output_type": "stream",
     "text": [
      "..........x.........1\n",
      "..........x..........\n",
      "..........x..........\n",
      "..........x..........\n",
      ".....................\n",
      ".....................\n",
      ".o........x..........\n",
      "..........x..........\n",
      "..........x..........\n",
      "..........x..........\n"
     ]
    }
   ],
   "source": [
    "x0 = twoRooms.reset()\n",
    "i,j = twoRooms.state2coord[x0]\n",
    "twoRooms_grid = two_rooms_grid(room_width=10, room_height=10, doorway_pos=5, doorway_height=2, goal_height=0)\n",
    "twoRooms_grid[i][j] = 'o'\n",
    "for line in twoRooms_grid:\n",
    "    print(\"\".join(map(lambda x: '.' if x == '' else str(x),line)))"
   ]
  },
  {
   "cell_type": "code",
   "execution_count": null,
   "metadata": {
    "collapsed": true
   },
   "outputs": [],
   "source": []
  }
 ],
 "metadata": {
  "kernelspec": {
   "display_name": "Python 3",
   "language": "python",
   "name": "python3"
  },
  "language_info": {
   "codemirror_mode": {
    "name": "ipython",
    "version": 3
   },
   "file_extension": ".py",
   "mimetype": "text/x-python",
   "name": "python",
   "nbconvert_exporter": "python",
   "pygments_lexer": "ipython3",
   "version": "3.6.4"
  }
 },
 "nbformat": 4,
 "nbformat_minor": 2
}
