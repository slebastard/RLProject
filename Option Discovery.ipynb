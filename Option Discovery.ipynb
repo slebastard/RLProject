{
 "cells": [
  {
   "cell_type": "code",
   "execution_count": 1,
   "metadata": {
    "collapsed": true
   },
   "outputs": [],
   "source": [
    "import pdb"
   ]
  },
  {
   "cell_type": "code",
   "execution_count": 2,
   "metadata": {
    "collapsed": false
   },
   "outputs": [
    {
     "name": "stdout",
     "output_type": "stream",
     "text": [
      "Populating the interactive namespace from numpy and matplotlib\n"
     ]
    }
   ],
   "source": [
    "import numpy as np\n",
    "import matplotlib.pyplot as plt\n",
    "import gridrender as gui\n",
    "import math\n",
    "import os\n",
    "import time\n",
    "import pdb\n",
    "import numbers\n",
    "\n",
    "from gridworld import GridWorld, two_rooms_grid, two_rooms_computeOptions\n",
    "from RL_methods import PolicyLearning, ValueLearning\n",
    "from HRL_methods import Option, MAXQ\n",
    "from anytree import Node, PreOrderIter\n",
    "from anytree.search import findall_by_attr\n",
    "from anytree.render import RenderTree\n",
    "\n",
    "%matplotlib inline\n",
    "%pylab inline\n",
    "pylab.rcParams['figure.figsize'] = (10, 6)"
   ]
  },
  {
   "cell_type": "code",
   "execution_count": 3,
   "metadata": {
    "collapsed": true
   },
   "outputs": [],
   "source": [
    "import tqdm"
   ]
  },
  {
   "cell_type": "markdown",
   "metadata": {},
   "source": [
    "# Two Room Setting for Option Discovery"
   ]
  },
  {
   "cell_type": "code",
   "execution_count": 4,
   "metadata": {
    "collapsed": true
   },
   "outputs": [],
   "source": [
    "W = 10\n",
    "H = 10\n",
    "DH = 2\n",
    "DP = 5\n",
    "twoRooms_grid = two_rooms_grid(room_width=W, room_height=H, doorway_pos=DP, doorway_height=DH, goal_height=0)"
   ]
  },
  {
   "cell_type": "code",
   "execution_count": 5,
   "metadata": {
    "collapsed": false
   },
   "outputs": [
    {
     "name": "stdout",
     "output_type": "stream",
     "text": [
      "..........x.........1\n",
      "..........x..........\n",
      "..........x..........\n",
      "..........x..........\n",
      ".....................\n",
      ".....................\n",
      "..........x..........\n",
      "..........x..........\n",
      "..........x..........\n",
      "..........x..........\n"
     ]
    }
   ],
   "source": [
    "for line in twoRooms_grid:\n",
    "    print(\"\".join(map(lambda x: '.' if x == '' else str(x),line)))"
   ]
  },
  {
   "cell_type": "markdown",
   "metadata": {},
   "source": [
    "## Reseting density\n",
    "We have modified the gridworld code so that to specify a specific resetting density (here we want x0 to be in the left hand room)"
   ]
  },
  {
   "cell_type": "code",
   "execution_count": 6,
   "metadata": {
    "collapsed": false
   },
   "outputs": [],
   "source": [
    "# reset density : uniform in left hand side\n",
    "reset_density = np.zeros((len(twoRooms_grid),len(twoRooms_grid[0])))\n",
    "for i in range(reset_density.shape[0]):\n",
    "    for j in range(reset_density.shape[1]):\n",
    "        if twoRooms_grid[i][j] != 'x' and 'x' in twoRooms_grid[i][j:]:\n",
    "            reset_density[i][j] = 1\n",
    "reset_density /= reset_density.sum()"
   ]
  },
  {
   "cell_type": "code",
   "execution_count": 7,
   "metadata": {
    "collapsed": false
   },
   "outputs": [],
   "source": [
    "twoRooms = GridWorld(gamma=0.9, grid=twoRooms_grid, reset_density=reset_density)"
   ]
  },
  {
   "cell_type": "markdown",
   "metadata": {},
   "source": [
    "## Testing the reseting density\n",
    "The 'o' marks the starting point, it should always be in the left hand side."
   ]
  },
  {
   "cell_type": "code",
   "execution_count": 8,
   "metadata": {
    "collapsed": false
   },
   "outputs": [
    {
     "name": "stdout",
     "output_type": "stream",
     "text": [
      "..........x.........1\n",
      "..........x..........\n",
      "......o...x..........\n",
      "..........x..........\n",
      ".....................\n",
      ".....................\n",
      "..........x..........\n",
      "..........x..........\n",
      "..........x..........\n",
      "..........x..........\n"
     ]
    }
   ],
   "source": [
    "x0 = twoRooms.reset()\n",
    "i,j = twoRooms.state2coord[x0]\n",
    "twoRooms_grid = two_rooms_grid(room_width=W, room_height=H, doorway_pos=DP, doorway_height=DH, goal_height=0)\n",
    "twoRooms_grid[i][j] = 'o'\n",
    "for line in twoRooms_grid:\n",
    "    print(\"\".join(map(lambda x: '.' if x == '' else str(x),line)))"
   ]
  },
  {
   "cell_type": "code",
   "execution_count": 20,
   "metadata": {
    "collapsed": false
   },
   "outputs": [
    {
     "name": "stdout",
     "output_type": "stream",
     "text": [
      "Root\n",
      "├── right\n",
      "├── down\n",
      "├── left\n",
      "└── up\n"
     ]
    }
   ],
   "source": [
    "trajectories = []\n",
    "MAXQi = MAXQ(twoRooms,  alpha0=0.25, expl0=0.9, n_iter=5000, runOnCreate=False)\n",
    "for it in range(10):\n",
    "    initState = twoRooms.reset()\n",
    "    MAXQi.actions.option.log = 'active'\n",
    "    MAXQi.time = 1\n",
    "    MAXQi.run(MAXQi.actions, initState, False, history=True)\n",
    "    trajectories.append([[s,x,y] for s,x,y in MAXQi.lastTraj if static_filter(s)])"
   ]
  },
  {
   "cell_type": "markdown",
   "metadata": {},
   "source": [
    "## 40 episodes Q-Learning"
   ]
  },
  {
   "cell_type": "code",
   "execution_count": 28,
   "metadata": {
    "collapsed": false
   },
   "outputs": [
    {
     "name": "stdout",
     "output_type": "stream",
     "text": [
      "CPU times: user 7.35 s, sys: 20 ms, total: 7.37 s\n",
      "Wall time: 7.37 s\n"
     ]
    }
   ],
   "source": [
    "%%time\n",
    "P = PolicyLearning(ind=0, GridWorld=twoRooms, max_iter=40)\n",
    "record_trajectory = []\n",
    "P.run(record_trajectory = record_trajectory)"
   ]
  },
  {
   "cell_type": "code",
   "execution_count": 22,
   "metadata": {
    "collapsed": false
   },
   "outputs": [
    {
     "data": {
      "text/plain": [
       "array([[10., 10., 10., 10., 10., 10., 10., 10., 10., 10.,  0., 10., 10.,\n",
       "        10., 10., 10., 10.,  0.,  0.,  0.,  0.],\n",
       "       [10., 10., 10., 10., 10., 10., 10., 10., 10., 10.,  0., 10., 10.,\n",
       "        10., 10., 10., 10.,  0.,  0.,  0.,  0.],\n",
       "       [10., 10., 10., 10., 10., 10., 10., 10., 10., 10.,  0., 10., 10.,\n",
       "        10., 10., 10., 10.,  0.,  0.,  0.,  0.],\n",
       "       [10., 10., 10., 10., 10., 10., 10., 10., 10., 10.,  0.,  9., 10.,\n",
       "        10., 10., 10., 10., 10.,  0.,  0.,  0.],\n",
       "       [10., 10., 10., 10., 10., 10., 10., 10., 10., 10., 10., 10., 10.,\n",
       "        10., 10., 10., 10., 10., 10., 10., 10.],\n",
       "       [10., 10., 10., 10., 10., 10., 10., 10., 10., 10., 10., 10., 10.,\n",
       "        10., 10., 10., 10., 10., 10., 10., 10.],\n",
       "       [10., 10., 10., 10., 10., 10., 10., 10., 10., 10.,  0., 10., 10.,\n",
       "        10., 10., 10., 10., 10., 10., 10., 10.],\n",
       "       [10., 10., 10., 10., 10., 10., 10., 10., 10., 10.,  0., 10., 10.,\n",
       "        10., 10., 10., 10., 10., 10., 10., 10.],\n",
       "       [10., 10., 10., 10., 10., 10., 10., 10., 10., 10.,  0.,  7., 10.,\n",
       "        10., 10., 10., 10., 10., 10., 10., 10.],\n",
       "       [10., 10., 10., 10., 10., 10., 10., 10., 10., 10.,  0.,  7.,  7.,\n",
       "        10., 10., 10., 10., 10., 10., 10., 10.]])"
      ]
     },
     "execution_count": 22,
     "metadata": {},
     "output_type": "execute_result"
    }
   ],
   "source": [
    "DD_map"
   ]
  },
  {
   "cell_type": "code",
   "execution_count": 21,
   "metadata": {
    "collapsed": false
   },
   "outputs": [
    {
     "data": {
      "image/png": "[encoded data removed]",
      "text/plain": [
       "<matplotlib.figure.Figure at 0x7f51cdd60b00>"
      ]
     },
     "metadata": {},
     "output_type": "display_data"
    }
   ],
   "source": [
    "DD_map = get_DD_map(trajectories, static_filter)\n",
    "plt.matshow(DD_map)\n",
    "plt.show()"
   ]
  },
  {
   "cell_type": "code",
   "execution_count": 50,
   "metadata": {
    "collapsed": false
   },
   "outputs": [
    {
     "data": {
      "image/png": "[encoded data removed]",
      "text/plain": [
       "<matplotlib.figure.Figure at 0x7f3205b1a6a0>"
      ]
     },
     "metadata": {},
     "output_type": "display_data"
    }
   ],
   "source": [
    "y = []\n",
    "for s in range(twoRooms.n_states):\n",
    "    i,j = twoRooms.state2coord[s]\n",
    "    y.append(DD_map[i,j])\n",
    "plt.plot(y)\n",
    "plt.show()"
   ]
  },
  {
   "cell_type": "markdown",
   "metadata": {},
   "source": [
    "## Compute the Diverse Density of state s"
   ]
  },
  {
   "cell_type": "code",
   "execution_count": 18,
   "metadata": {
    "collapsed": false
   },
   "outputs": [],
   "source": [
    "def gaussian_dist(center,B):\n",
    "    center_np = np.array(twoRooms.state2coord[center])\n",
    "    B_np = np.array(twoRooms.state2coord[B])\n",
    "    return np.exp(-np.linalg.norm(B_np-center_np))\n",
    "\n",
    "def DD_old(s, record_trajectory, static_filter = lambda x: True):\n",
    "    \n",
    "    log_sum = 0\n",
    "    for traj in record_trajectory:\n",
    "        product = 1\n",
    "        for x,a,r in traj:\n",
    "            if static_filter(x):\n",
    "                product *= (1-gaussian_dist(center=s,B=x))\n",
    "        log_sum += np.log(1-product)\n",
    "    \n",
    "    return log_sum\n",
    "\n",
    "def get_DD_map(record_trajectory, static_filter = lambda x: True):\n",
    "    \n",
    "    DD_map = np.zeros((len(twoRooms_grid),len(twoRooms_grid[0])))\n",
    "    count = {}\n",
    "    for s in range(twoRooms.n_states):\n",
    "        count[s] = 0\n",
    "    for traj in record_trajectory:\n",
    "        seen = {}\n",
    "        for x,_,_ in traj:\n",
    "            if not x in seen and static_filter(x):\n",
    "                i,j = twoRooms.state2coord[x]\n",
    "                DD_map[i,j] += 1\n",
    "                seen[x] = True\n",
    "    \n",
    "    return DD_map"
   ]
  },
  {
   "cell_type": "code",
   "execution_count": 10,
   "metadata": {
    "collapsed": false
   },
   "outputs": [
    {
     "name": "stdout",
     "output_type": "stream",
     "text": [
      "..........x......~~~~\n",
      "..........x......~~~~\n",
      "..........x......~~~~\n",
      "..........x.......~~~\n",
      ".....................\n",
      ".....................\n",
      "..........x..........\n",
      "..........x..........\n",
      "..........x..........\n",
      "..........x..........\n"
     ]
    }
   ],
   "source": [
    "def static_filter(s,dist_to_goal=4):\n",
    "    objective = np.array([0,len(twoRooms_grid[0])-1])\n",
    "    coord_s = np.array(twoRooms.state2coord[s])\n",
    "    return np.linalg.norm(objective-coord_s) >= dist_to_goal\n",
    "twoRooms_grid = two_rooms_grid(room_width=10, room_height=10, doorway_pos=5, doorway_height=2, goal_height=0)\n",
    "for s in range(twoRooms.n_states):\n",
    "    if not static_filter(s,4):\n",
    "        i,j = twoRooms.state2coord[s]\n",
    "        twoRooms_grid[i][j] = \"~\"\n",
    "for line in twoRooms_grid:\n",
    "    print(\"\".join(map(lambda x: '.' if x == '' else str(x),line)))"
   ]
  },
  {
   "cell_type": "code",
   "execution_count": 13,
   "metadata": {
    "collapsed": false
   },
   "outputs": [],
   "source": [
    "DD_map = get_DD_map(record_trajectory, static_filter)"
   ]
  },
  {
   "cell_type": "code",
   "execution_count": null,
   "metadata": {
    "collapsed": true
   },
   "outputs": [],
   "source": []
  }
 ],
 "metadata": {
  "kernelspec": {
   "display_name": "Python 3",
   "language": "python",
   "name": "python3"
  },
  "language_info": {
   "codemirror_mode": {
    "name": "ipython",
    "version": 3
   },
   "file_extension": ".py",
   "mimetype": "text/x-python",
   "name": "python",
   "nbconvert_exporter": "python",
   "pygments_lexer": "ipython3",
   "version": "3.6.4"
  }
 },
 "nbformat": 4,
 "nbformat_minor": 2
}
